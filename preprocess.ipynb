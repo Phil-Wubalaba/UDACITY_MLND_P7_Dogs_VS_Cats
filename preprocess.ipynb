{
 "cells": [
  {
   "cell_type": "code",
   "execution_count": 1,
   "metadata": {},
   "outputs": [],
   "source": [
    "%matplotlib inline\n",
    "%config InlineBackend.figure_format = 'retina'\n",
    "\n",
    "import os\n",
    "import shutil\n",
    "\n",
    "import matplotlib.pyplot as plt\n",
    "import numpy as np\n",
    "import time\n",
    "import pandas as pd\n",
    "import json\n",
    "import matplotlib.image as mpimg\n",
    "\n",
    "import seaborn as sb\n",
    "import torch\n",
    "from torch import nn\n",
    "from torch import optim\n",
    "\n",
    "from torchvision import datasets, transforms, models\n",
    "from collections import OrderedDict\n",
    "\n",
    "import h5py\n",
    "\n",
    "from PIL import Image\n"
   ]
  },
  {
   "cell_type": "code",
   "execution_count": 2,
   "metadata": {},
   "outputs": [],
   "source": [
    "train_filenames = os.listdir('train')\n",
    "train_cat = os.listdir('train2\\\\cat')\n",
    "train_dog = os.listdir('train2\\\\dog')\n",
    "#如需对比去除异常值的的结果，可以参照日期更早的csv文件，或者解除注释本行以下部分并注释以上部分，运行本文件和main.ipynb\n",
    "# train_filenames = os.listdir('train')\n",
    "# train_cat = list(filter(lambda x:x[:3] == 'cat', train_filenames))\n",
    "# train_dog = list(filter(lambda x:x[:3] == 'dog', train_filenames))\n",
    "\n",
    "# def rmrf_mkdir(dirname):\n",
    "#     if os.path.exists(dirname):\n",
    "#         shutil.rmtree(dirname)\n",
    "#     os.mkdir(dirname)\n",
    "\n",
    "\n",
    "# rmrf_mkdir('train2')\n",
    "# os.mkdir('train2\\\\cat')\n",
    "# os.mkdir('train2\\\\dog')\n",
    "\n",
    "\n",
    "# for filename in train_cat:\n",
    "#     os.symlink('E:\\\\AI\\\\MLND_CN_P7_DogvsCat\\\\train\\\\'+filename, 'train2\\\\cat\\\\'+filename)\n",
    "\n",
    "# for filename in train_dog:\n",
    "#     os.symlink('E:\\\\AI\\\\MLND_CN_P7_DogvsCat\\\\train\\\\'+filename, 'train2\\\\dog\\\\'+filename)\n",
    "\n",
    "    \n",
    "# test_filenames = os.listdir('test')\n",
    "# test_filenames_no_jpg = list([x[:-4] for x in test_filenames])\n",
    "\n",
    "\n",
    "# rmrf_mkdir('test2')\n",
    "# for filename_no_jpg, filename in zip(test_filenames_no_jpg, test_filenames):\n",
    "#     rmrf_mkdir('test2\\\\' + filename_no_jpg)\n",
    "\n",
    "#     os.symlink('E:\\\\AI\\\\MLND_CN_P7_DogvsCat\\\\test\\\\'+filename, 'test2\\\\' + filename_no_jpg + '\\\\' + filename)"
   ]
  },
  {
   "cell_type": "code",
   "execution_count": 3,
   "metadata": {},
   "outputs": [],
   "source": [
    "train_dir = 'E:\\\\AI\\\\MLND_CN_P7_DogvsCat\\\\train2'\n",
    "test_dir = 'E:\\\\AI\\\\MLND_CN_P7_DogvsCat\\\\test2'"
   ]
  },
  {
   "cell_type": "code",
   "execution_count": 4,
   "metadata": {},
   "outputs": [],
   "source": [
    "def load_data(size=224,shuffle=False,batch=16):\n",
    "    train_transforms = transforms.Compose([transforms.RandomRotation(30),\n",
    "                                           transforms.Resize(int(size*1.39)),\n",
    "                                           transforms.RandomResizedCrop(size),\n",
    "                                           transforms.RandomHorizontalFlip(),\n",
    "                                           transforms.ToTensor(),\n",
    "                                           transforms.Normalize([0.485, 0.456, 0.406], \n",
    "                                                                [0.229, 0.224, 0.225])])\n",
    "    test_transforms = transforms.Compose([transforms.Resize(int(size*1.39)),\n",
    "                                           transforms.CenterCrop(size),\n",
    "                                           transforms.ToTensor(),\n",
    "                                           transforms.Normalize([0.485, 0.456, 0.406], \n",
    "                                                                [0.229, 0.224, 0.225])])\n",
    "\n",
    "    train_datasets = datasets.ImageFolder(train_dir, transform=train_transforms)\n",
    "\n",
    "    test_datasets = datasets.ImageFolder(test_dir, transform=test_transforms)\n",
    "    # TODO: 使用datasets定义dataloaders\n",
    "    train_loader = torch.utils.data.DataLoader(train_datasets, batch_size=batch, shuffle=shuffle)\n",
    "\n",
    "    test_loader = torch.utils.data.DataLoader(test_datasets, batch_size=batch)\n",
    "    return train_datasets, test_datasets, train_loader, test_loader"
   ]
  },
  {
   "cell_type": "code",
   "execution_count": 5,
   "metadata": {},
   "outputs": [],
   "source": [
    "train_datasets, test_datasets, train_loader, test_loader = load_data()"
   ]
  },
  {
   "cell_type": "code",
   "execution_count": 6,
   "metadata": {},
   "outputs": [],
   "source": [
    "model_vgg = models.vgg19_bn(pretrained=True)\n",
    "model_vgg.classifier = nn.Linear(model_vgg.classifier[0].in_features, 2048)\n",
    "model_vgg.cuda()\n",
    "for p in model_vgg.parameters():\n",
    "    p.requires_grad = False\n",
    "\n",
    "model_res = models.resnet152(pretrained=True)\n",
    "model_res.fc = nn.Linear(model_res.fc.in_features, 2048)\n",
    "model_res.cuda()\n",
    "for p in model_res.parameters():\n",
    "    p.requires_grad = False\n",
    "\n",
    "model_den = models.densenet161(pretrained=True)\n",
    "model_den.classifier = nn.Linear(model_den.classifier.in_features, 2048)\n",
    "model_den.cuda()\n",
    "for p in model_den.parameters():\n",
    "    p.requires_grad = False"
   ]
  },
  {
   "cell_type": "code",
   "execution_count": 7,
   "metadata": {},
   "outputs": [],
   "source": [
    "def bottle_save(model_s):\n",
    "    def get_bottle(model_s, loader_s):\n",
    "        bottle_neck_list = []\n",
    "        for data, labels in loader_s:\n",
    "            model_s.eval()\n",
    "            with torch.no_grad():\n",
    "                data = data.cuda()\n",
    "                bottle = model_s(data)\n",
    "                bottle_neck_list += bottle.data.cpu().numpy().tolist()\n",
    "        return bottle_neck_list\n",
    "\n",
    "\n",
    "    train = get_bottle(model_s, train_loader)\n",
    "    test = get_bottle(model_s, test_loader)\n",
    "    train_classes = []\n",
    "    for i in train_filenames:\n",
    "        if i in train_cat:\n",
    "            train_classes.append(0)\n",
    "        elif i in train_dog:\n",
    "            train_classes.append(1)\n",
    "    with h5py.File(\"gap_%s.h5\"%str(model_s)[:3]) as h:\n",
    "            h.create_dataset(\"train\", data=train)\n",
    "            h.create_dataset(\"test\", data=test)\n",
    "            h.create_dataset(\"train_label\", data=train_classes)"
   ]
  },
  {
   "cell_type": "markdown",
   "metadata": {},
   "source": [
    "以下过程请谨慎，可能持续30分钟左右，消耗大量cpu性能和部分GPU占用"
   ]
  },
  {
   "cell_type": "code",
   "execution_count": 8,
   "metadata": {},
   "outputs": [
    {
     "name": "stdout",
     "output_type": "stream",
     "text": [
      "1466.8500611782074\n"
     ]
    }
   ],
   "source": [
    "a = time.time()\n",
    "bottle_save(model_res)\n",
    "bottle_save(model_vgg)\n",
    "bottle_save(model_den)\n",
    "a = time.time() - a\n",
    "print(a)"
   ]
  }
 ],
 "metadata": {
  "kernelspec": {
   "display_name": "Python 3",
   "language": "python",
   "name": "python3"
  },
  "language_info": {
   "codemirror_mode": {
    "name": "ipython",
    "version": 3
   },
   "file_extension": ".py",
   "mimetype": "text/x-python",
   "name": "python",
   "nbconvert_exporter": "python",
   "pygments_lexer": "ipython3",
   "version": "3.7.3"
  }
 },
 "nbformat": 4,
 "nbformat_minor": 2
}
